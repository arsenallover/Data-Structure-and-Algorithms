{
 "cells": [
  {
   "cell_type": "markdown",
   "metadata": {},
   "source": [
    "## Problem\n",
    "\n",
    "* pair_sum([1, 3, 2, 2], 4) should return (1, 3) and (2, 2)"
   ]
  },
  {
   "cell_type": "code",
   "execution_count": 117,
   "metadata": {},
   "outputs": [
    {
     "name": "stdout",
     "output_type": "stream",
     "text": [
      "ALL TEST CASES PASSED\n"
     ]
    }
   ],
   "source": [
    "\n",
    "\"\"\"\n",
    "RUN THIS CELL TO TEST YOUR SOLUTION\n",
    "\"\"\"\n",
    "from nose.tools import assert_equal\n",
    "\n",
    "class TestPair(object):\n",
    "    \n",
    "    def test(self,sol):\n",
    "        assert_equal(sol([1,9,2,8,3,7,4,6,5,5,13,14,11,13,-1],10),6)\n",
    "        assert_equal(sol([1,2,3,1],3),1)\n",
    "        assert_equal(sol([1,3,2,2],4),2)\n",
    "        print('ALL TEST CASES PASSED')\n",
    "        \n",
    "#Run tests\n",
    "t = TestPair()\n",
    "t.test(pair_sum)"
   ]
  },
  {
   "cell_type": "code",
   "execution_count": 116,
   "metadata": {},
   "outputs": [],
   "source": [
    "def pair_sum(a, sum_expected):\n",
    "    output = []\n",
    "    for index, number in enumerate(a[:-1]):\n",
    "        for next_index, pair_number in enumerate(a[index+1:]):\n",
    "            if number + pair_number == sum_expected:\n",
    "                output.append([number, pair_number])\n",
    "    \n",
    "    final_output = output.copy()\n",
    "    for index, pair in enumerate(output[:-1]):\n",
    "        for next_index, next_pair in enumerate(output[index+1:]):\n",
    "            if (pair[0] * pair[1]) == (next_pair[0] * next_pair[1]):\n",
    "            \n",
    "                final_output.remove(next_pair)  \n",
    "    return len(final_output)"
   ]
  },
  {
   "cell_type": "code",
   "execution_count": 145,
   "metadata": {},
   "outputs": [
    {
     "data": {
      "text/plain": [
       "2"
      ]
     },
     "execution_count": 145,
     "metadata": {},
     "output_type": "execute_result"
    }
   ],
   "source": [
    "def pair_sum2(a, sum_expected):\n",
    "    \n",
    "    seen = set() # track of seen elements\n",
    "    output = set()\n",
    "    \n",
    "    for element in a:\n",
    "        target = sum_expected - element\n",
    "        \n",
    "        if target not in seen:\n",
    "            seen.add(element)\n",
    "        else:\n",
    "            output.add(((min(target, element), max(target, element))))\n",
    "    return len(output)\n",
    "pair_sum2([1, 3, 2, 2], 4)"
   ]
  },
  {
   "cell_type": "code",
   "execution_count": 146,
   "metadata": {},
   "outputs": [
    {
     "name": "stdout",
     "output_type": "stream",
     "text": [
      "ALL TEST CASES PASSED\n"
     ]
    }
   ],
   "source": [
    "t.test(pair_sum2)"
   ]
  }
 ],
 "metadata": {
  "kernelspec": {
   "display_name": "Python 3",
   "language": "python",
   "name": "python3"
  },
  "language_info": {
   "codemirror_mode": {
    "name": "ipython",
    "version": 3
   },
   "file_extension": ".py",
   "mimetype": "text/x-python",
   "name": "python",
   "nbconvert_exporter": "python",
   "pygments_lexer": "ipython3",
   "version": "3.7.0"
  }
 },
 "nbformat": 4,
 "nbformat_minor": 2
}

{
 "cells": [
  {
   "cell_type": "code",
   "execution_count": 84,
   "metadata": {},
   "outputs": [
    {
     "name": "stdout",
     "output_type": "stream",
     "text": [
      "3 6 3\n",
      "4 6 4\n",
      "5 6 5\n",
      "6 6 6\n",
      "7 12 7\n",
      "8 12 8\n",
      "9 12 9\n",
      "10 12 10\n",
      "Length of array : 11\n",
      "Array = [0,1,2,3,4,5,6,7,8,9,10]\n"
     ]
    },
    {
     "data": {
      "text/plain": [
       "False"
      ]
     },
     "execution_count": 84,
     "metadata": {},
     "output_type": "execute_result"
    }
   ],
   "source": [
    "class Array:\n",
    "    def __init__(self, arr):\n",
    "        self.arr = arr\n",
    "        self.size = len(arr)\n",
    "        self.inc_capacity()\n",
    "        \n",
    "    def inc_capacity(self):\n",
    "        '''double the size'''\n",
    "        dummy = 2*self.size*[0]  # create dummy array double the size\n",
    "        dummy[:self.size] = self.arr # assign the elements\n",
    "        self.arr = dummy # change the parameter\n",
    "        self.capacity = len(self.arr)   # update capacity\n",
    "    \n",
    "    def isEmpty(self):\n",
    "        if self.size:\n",
    "            return False\n",
    "        return True\n",
    "    \n",
    "    def add(self, num):\n",
    "        '''if arr is full -> double the size'''\n",
    "        print(self.size, self.capacity, num)\n",
    "        if self.capacity == self.size:\n",
    "            self.inc_capacity()\n",
    "        self.arr[self.size] = num\n",
    "        self.size += 1\n",
    "        return self.arr[:self.size]\n",
    "    \n",
    "    def atIndex(self, index):\n",
    "        ''' returns value at index '''\n",
    "        if index < self.size:\n",
    "            return self.arr[index]\n",
    "        return \"Invalid Index\"\n",
    "    \n",
    "    def push(self, num):\n",
    "        ''' push value at begining '''\n",
    "        dummy = self.arr.copy()\n",
    "        self.arr[0] = num\n",
    "        self.arr[1:self.size] = dummy[:self.size+1]\n",
    "        self.size += 1\n",
    "        \n",
    "    def insertAtIndex(self, index, num):\n",
    "        '''inserts at index, shifts elements to right'''\n",
    "        dummy = self.arr.copy()\n",
    "        self.arr[index] = num\n",
    "        self.arr[index+1:self.size] = dummy[index:self.size+1]\n",
    "        self.size += 1\n",
    "        \n",
    "    def pop(self):\n",
    "        '''remove from end, return value'''\n",
    "        if not self.isEmpty():\n",
    "            pop_item = self.arr[self.size-1]\n",
    "            self.arr.remove(pop_item)\n",
    "            self.size -= 1\n",
    "            return pop_item\n",
    "    \n",
    "    def delete(self, index):\n",
    "        '''delete item at index, shifting all trailing elements left'''\n",
    "        if index < self.size:\n",
    "            dummy = self.arr.copy()\n",
    "            self.arr[index:self.size] = dummy[index+1:self.size+1]\n",
    "            self.size -= 1\n",
    "            self.arr = self.arr[:self.size]\n",
    "        else:\n",
    "            print(\"Invalid Index\")\n",
    "            \n",
    "    def remove(self, num):\n",
    "        '''looks & removes value, duplicates including'''\n",
    "        for i in range(self.size):\n",
    "            if (self.arr[i] == num):\n",
    "                self.arr[i:self.size] = self.arr[i+1:self.size+1]\n",
    "                self.size -= 1\n",
    "                self.remove(num)\n",
    "        return self.arr[:self.size]\n",
    "    \n",
    "    def find(self, num):\n",
    "        '''looks for value and returns first index with that value, -1 if not found'''\n",
    "        for i in range(self.size):\n",
    "            if self.arr[i] == num:\n",
    "                return i\n",
    "        return -1\n",
    "\n",
    "    def __repr__(self):\n",
    "        ''' print only valid records '''\n",
    "        return '[' + ','.join([str(items) for items in self.arr[:self.size]]) + ']'\n",
    "    \n",
    "    def __len__(self):\n",
    "        return self.size\n",
    "\n",
    "arr = Array([0, 1, 2])\n",
    "arr.add(3)\n",
    "arr.add(4)\n",
    "arr.add(5)\n",
    "arr.add(6)\n",
    "arr.add(7)\n",
    "arr.add(8)\n",
    "arr.add(9)\n",
    "arr.add(10)\n",
    "print(f'Length of array : {len(arr)}')\n",
    "print(f'Array = {arr}')\n",
    "arr.isEmpty()"
   ]
  },
  {
   "cell_type": "code",
   "execution_count": 87,
   "metadata": {},
   "outputs": [
    {
     "data": {
      "text/plain": [
       "-1"
      ]
     },
     "execution_count": 87,
     "metadata": {},
     "output_type": "execute_result"
    }
   ],
   "source": [
    "arr.find(60)"
   ]
  },
  {
   "cell_type": "code",
   "execution_count": 86,
   "metadata": {},
   "outputs": [
    {
     "data": {
      "text/plain": [
       "[0, 1, 2, 3, 4, 6, 7, 8, 9, 10]"
      ]
     },
     "execution_count": 86,
     "metadata": {},
     "output_type": "execute_result"
    }
   ],
   "source": [
    "arr.remove(5)"
   ]
  },
  {
   "cell_type": "code",
   "execution_count": 58,
   "metadata": {},
   "outputs": [
    {
     "data": {
      "text/plain": [
       "[0,1,2,3,4,5,6,7,8,9,10]"
      ]
     },
     "execution_count": 58,
     "metadata": {},
     "output_type": "execute_result"
    }
   ],
   "source": [
    "arr.push(0)\n",
    "arr"
   ]
  },
  {
   "cell_type": "code",
   "execution_count": 61,
   "metadata": {},
   "outputs": [
    {
     "data": {
      "text/plain": [
       "[0,1,2,3,4,5,6,7,8]"
      ]
     },
     "execution_count": 61,
     "metadata": {},
     "output_type": "execute_result"
    }
   ],
   "source": [
    "arr.delete(-100)\n",
    "arr"
   ]
  },
  {
   "cell_type": "code",
   "execution_count": 40,
   "metadata": {},
   "outputs": [
    {
     "data": {
      "text/plain": [
       "[0,1,2,3,4,6,5.5,7,8,9,10]"
      ]
     },
     "execution_count": 40,
     "metadata": {},
     "output_type": "execute_result"
    }
   ],
   "source": [
    "arr.insertAtIndex(6, 5.5)\n",
    "arr"
   ]
  },
  {
   "cell_type": "code",
   "execution_count": 56,
   "metadata": {},
   "outputs": [
    {
     "name": "stdout",
     "output_type": "stream",
     "text": [
      "10\n"
     ]
    },
    {
     "data": {
      "text/plain": [
       "[0,1,2,3,4,5,6,7,8,9]"
      ]
     },
     "execution_count": 56,
     "metadata": {},
     "output_type": "execute_result"
    }
   ],
   "source": [
    "print(arr.pop())\n",
    "arr"
   ]
  },
  {
   "cell_type": "code",
   "execution_count": 42,
   "metadata": {},
   "outputs": [
    {
     "name": "stdout",
     "output_type": "stream",
     "text": [
      "2\n",
      "Invalid Index\n"
     ]
    }
   ],
   "source": [
    "print(arr.atIndex(2))\n",
    "print(arr.atIndex(10))"
   ]
  },
  {
   "cell_type": "code",
   "execution_count": 5,
   "metadata": {},
   "outputs": [
    {
     "data": {
      "text/plain": [
       "True"
      ]
     },
     "execution_count": 5,
     "metadata": {},
     "output_type": "execute_result"
    }
   ],
   "source": [
    "arr = Array([])\n",
    "arr.isEmpty()"
   ]
  }
 ],
 "metadata": {
  "kernelspec": {
   "display_name": "Python 3",
   "language": "python",
   "name": "python3"
  },
  "language_info": {
   "codemirror_mode": {
    "name": "ipython",
    "version": 3
   },
   "file_extension": ".py",
   "mimetype": "text/x-python",
   "name": "python",
   "nbconvert_exporter": "python",
   "pygments_lexer": "ipython3",
   "version": "3.7.0"
  }
 },
 "nbformat": 4,
 "nbformat_minor": 2
}

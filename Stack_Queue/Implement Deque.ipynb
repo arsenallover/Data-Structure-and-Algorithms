{
 "cells": [
  {
   "cell_type": "markdown",
   "metadata": {},
   "source": [
    "1. Deque = stack + Queue\n",
    "2. Can add remove at both ends"
   ]
  },
  {
   "cell_type": "code",
   "execution_count": 17,
   "metadata": {},
   "outputs": [],
   "source": [
    "class Deque:\n",
    "    def __init__(self):\n",
    "        self.deque = []\n",
    "        \n",
    "    def isEmpty(self):\n",
    "        return self.deque == []\n",
    "        \n",
    "    def addFront(self, number):\n",
    "        self.deque.insert(0, number)\n",
    "        \n",
    "    def addLast(self, number):\n",
    "        self.deque.append(number)\n",
    "    \n",
    "    def removeFront(self):\n",
    "        self.deque.pop(0)\n",
    "        \n",
    "    def removeLast(self):\n",
    "        self.deque.pop()\n",
    "    \n",
    "    def __repr__(self):\n",
    "        return str(self.deque)        "
   ]
  },
  {
   "cell_type": "code",
   "execution_count": 20,
   "metadata": {},
   "outputs": [
    {
     "name": "stdout",
     "output_type": "stream",
     "text": [
      "Is deque empty : True\n",
      "[0, 1, 2, 3]\n",
      "Is deque empty : False\n",
      "[1, 2]\n"
     ]
    }
   ],
   "source": [
    "d = Deque()\n",
    "print(f\"Is deque empty : {d.isEmpty()}\")\n",
    "d.addFront(1)\n",
    "d.addLast(2)\n",
    "d.addLast(3)\n",
    "d.addFront(0)\n",
    "print(d)\n",
    "d.removeFront()\n",
    "d.removeLast()\n",
    "print(f\"Is deque empty : {d.isEmpty()}\")\n",
    "print(d)"
   ]
  }
 ],
 "metadata": {
  "kernelspec": {
   "display_name": "Python 3",
   "language": "python",
   "name": "python3"
  },
  "language_info": {
   "codemirror_mode": {
    "name": "ipython",
    "version": 3
   },
   "file_extension": ".py",
   "mimetype": "text/x-python",
   "name": "python",
   "nbconvert_exporter": "python",
   "pygments_lexer": "ipython3",
   "version": "3.7.0"
  }
 },
 "nbformat": 4,
 "nbformat_minor": 2
}

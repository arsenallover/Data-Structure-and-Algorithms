{
 "cells": [
  {
   "cell_type": "code",
   "execution_count": 12,
   "metadata": {},
   "outputs": [],
   "source": [
    "class Queue:\n",
    "    def __init__(self):\n",
    "        self.queue = []\n",
    "        \n",
    "    def enqueue(self, number):\n",
    "        self.queue.insert(0, number)\n",
    "        print(f\"Added {number} to the queue\")\n",
    "        \n",
    "    def dequeue(self):\n",
    "        dequeue_number = self.queue[-1]\n",
    "        print(f\"Removed {dequeue_number} from queue\")\n",
    "        return self.queue.pop()\n",
    "    \n",
    "    def size(self):\n",
    "        size_queue = len(self.queue)\n",
    "        print(f\"Size of queue : {size_queue}\")\n",
    "        return size_queue"
   ]
  },
  {
   "cell_type": "code",
   "execution_count": 13,
   "metadata": {},
   "outputs": [
    {
     "name": "stdout",
     "output_type": "stream",
     "text": [
      "Added 1 to the queue\n",
      "Added 2 to the queue\n",
      "Added 3 to the queue\n",
      "Added 4 to the queue\n",
      "Removed 1 from queue\n",
      "Size of queue : 3\n"
     ]
    },
    {
     "data": {
      "text/plain": [
       "3"
      ]
     },
     "execution_count": 13,
     "metadata": {},
     "output_type": "execute_result"
    }
   ],
   "source": [
    "q = Queue()\n",
    "q.enqueue(1)\n",
    "q.enqueue(2)\n",
    "q.enqueue(3)\n",
    "q.enqueue(4)\n",
    "q.dequeue()\n",
    "q.size()"
   ]
  }
 ],
 "metadata": {
  "kernelspec": {
   "display_name": "Python 3",
   "language": "python",
   "name": "python3"
  },
  "language_info": {
   "codemirror_mode": {
    "name": "ipython",
    "version": 3
   },
   "file_extension": ".py",
   "mimetype": "text/x-python",
   "name": "python",
   "nbconvert_exporter": "python",
   "pygments_lexer": "ipython3",
   "version": "3.7.0"
  }
 },
 "nbformat": 4,
 "nbformat_minor": 2
}

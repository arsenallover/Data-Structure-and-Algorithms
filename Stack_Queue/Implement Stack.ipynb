{
 "cells": [
  {
   "cell_type": "code",
   "execution_count": 5,
   "metadata": {},
   "outputs": [],
   "source": [
    "class Stack:\n",
    "    def __init__(self):\n",
    "        self.stack = []\n",
    "        \n",
    "    def add(self, number):\n",
    "        self.stack.append(number)\n",
    "        print(f\"Added {number} to stack\")\n",
    "        \n",
    "    def pop(self):\n",
    "        pop_number = self.stack[-1]\n",
    "        self.stack = self.stack[:-1]\n",
    "        print(f\"Removed {pop_number} to stack\")\n",
    "        \n",
    "    def peek(self):\n",
    "        return self.stack[-1]\n",
    "    \n",
    "    def size(self):\n",
    "        size_stack = len(self.stack)\n",
    "        print(f\"Length of Stack : {size_stack}\")\n",
    "        return size_stack"
   ]
  },
  {
   "cell_type": "code",
   "execution_count": 6,
   "metadata": {},
   "outputs": [
    {
     "name": "stdout",
     "output_type": "stream",
     "text": [
      "Added 1 to stack\n",
      "Added 2 to stack\n",
      "Added 3 to stack\n",
      "Added 4 to stack\n",
      "Removed 4 to stack\n",
      "Length of Stack : 3\n"
     ]
    },
    {
     "data": {
      "text/plain": [
       "3"
      ]
     },
     "execution_count": 6,
     "metadata": {},
     "output_type": "execute_result"
    }
   ],
   "source": [
    "a = Stack()\n",
    "a.add(1)\n",
    "a.add(2)\n",
    "a.add(3)\n",
    "a.add(4)\n",
    "a.peek()\n",
    "a.pop()\n",
    "a.peek()\n",
    "a.size()"
   ]
  }
 ],
 "metadata": {
  "kernelspec": {
   "display_name": "Python 3",
   "language": "python",
   "name": "python3"
  },
  "language_info": {
   "codemirror_mode": {
    "name": "ipython",
    "version": 3
   },
   "file_extension": ".py",
   "mimetype": "text/x-python",
   "name": "python",
   "nbconvert_exporter": "python",
   "pygments_lexer": "ipython3",
   "version": "3.7.0"
  }
 },
 "nbformat": 4,
 "nbformat_minor": 2
}

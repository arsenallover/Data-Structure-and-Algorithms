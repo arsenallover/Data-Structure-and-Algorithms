{
 "cells": [
  {
   "cell_type": "code",
   "execution_count": 1,
   "metadata": {},
   "outputs": [],
   "source": [
    "class Node:\n",
    "    def __init__(self, number):\n",
    "        self.data = number\n",
    "        self.next = None\n",
    "\n",
    "class LinkedList:\n",
    "    def __init__(self):\n",
    "        self.head = None\n",
    "        \n",
    "    def insertStart(self, number):\n",
    "        ''' insert data at Start\n",
    "        1. create node\n",
    "        2. make new head\n",
    "        3. change existing head'''\n",
    "        node = Node(number)\n",
    "        \n",
    "        # node becomes new head \n",
    "        node.next = self.head        \n",
    "        \n",
    "        # existing head becomes node\n",
    "        self.head = node\n",
    "    \n",
    "    def insertEnd(self, number):\n",
    "        ''' insert data at End\n",
    "        1. create node\n",
    "        2. traverse till end\n",
    "        3. update node.next'''\n",
    "        node = Node(number)\n",
    "        \n",
    "        # traverse till end\n",
    "        \n",
    "        ## inserting empty linkedlist\n",
    "        if self.head is None:\n",
    "            self.head = new_node\n",
    "            return None\n",
    "        \n",
    "        ## inserting non-empty linkedlist\n",
    "        temp = self.head\n",
    "        while temp.next:\n",
    "            # stop at end\n",
    "            temp = temp.next\n",
    "           \n",
    "        # update end\n",
    "        temp.next = node\n",
    "            \n",
    "    def printLinkedList(self):\n",
    "        temp = self.head\n",
    "        while temp:\n",
    "            print(temp.data)\n",
    "            temp = temp.next\n",
    "        "
   ]
  },
  {
   "cell_type": "code",
   "execution_count": 2,
   "metadata": {},
   "outputs": [
    {
     "name": "stdout",
     "output_type": "stream",
     "text": [
      "1\n",
      "2\n",
      "3\n",
      "1\n",
      "2\n",
      "3\n",
      "4\n"
     ]
    }
   ],
   "source": [
    "l = LinkedList()\n",
    "l.insertStart(3)\n",
    "l.insertStart(2)\n",
    "l.insertStart(1)\n",
    "l.printLinkedList()\n",
    "print('insertinfl.insertEnd(4)\n",
    "l.printLinkedList()"
   ]
  }
 ],
 "metadata": {
  "kernelspec": {
   "display_name": "Python 3",
   "language": "python",
   "name": "python3"
  },
  "language_info": {
   "codemirror_mode": {
    "name": "ipython",
    "version": 3
   },
   "file_extension": ".py",
   "mimetype": "text/x-python",
   "name": "python",
   "nbconvert_exporter": "python",
   "pygments_lexer": "ipython3",
   "version": "3.7.0"
  }
 },
 "nbformat": 4,
 "nbformat_minor": 2
}
